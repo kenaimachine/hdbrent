{
 "cells": [
  {
   "cell_type": "code",
   "execution_count": 14,
   "metadata": {},
   "outputs": [],
   "source": [
    "import pandas as pd\n",
    "import numpy as np\n",
    "import matplotlib.pyplot as plt"
   ]
  },
  {
   "cell_type": "code",
   "execution_count": 25,
   "metadata": {},
   "outputs": [
    {
     "data": {
      "text/html": [
       "<div>\n",
       "<style scoped>\n",
       "    .dataframe tbody tr th:only-of-type {\n",
       "        vertical-align: middle;\n",
       "    }\n",
       "\n",
       "    .dataframe tbody tr th {\n",
       "        vertical-align: top;\n",
       "    }\n",
       "\n",
       "    .dataframe thead th {\n",
       "        text-align: right;\n",
       "    }\n",
       "</style>\n",
       "<table border=\"1\" class=\"dataframe\">\n",
       "  <thead>\n",
       "    <tr style=\"text-align: right;\">\n",
       "      <th></th>\n",
       "      <th>quarter</th>\n",
       "      <th>town</th>\n",
       "      <th>flat_type</th>\n",
       "      <th>median_rent</th>\n",
       "    </tr>\n",
       "  </thead>\n",
       "  <tbody>\n",
       "    <tr>\n",
       "      <td>0</td>\n",
       "      <td>2005-Q2</td>\n",
       "      <td>ANG MO KIO</td>\n",
       "      <td>1-RM</td>\n",
       "      <td>na</td>\n",
       "    </tr>\n",
       "    <tr>\n",
       "      <td>1</td>\n",
       "      <td>2005-Q2</td>\n",
       "      <td>ANG MO KIO</td>\n",
       "      <td>2-RM</td>\n",
       "      <td>na</td>\n",
       "    </tr>\n",
       "    <tr>\n",
       "      <td>2</td>\n",
       "      <td>2005-Q2</td>\n",
       "      <td>ANG MO KIO</td>\n",
       "      <td>3-RM</td>\n",
       "      <td>800</td>\n",
       "    </tr>\n",
       "    <tr>\n",
       "      <td>3</td>\n",
       "      <td>2005-Q2</td>\n",
       "      <td>ANG MO KIO</td>\n",
       "      <td>4-RM</td>\n",
       "      <td>950</td>\n",
       "    </tr>\n",
       "    <tr>\n",
       "      <td>4</td>\n",
       "      <td>2005-Q2</td>\n",
       "      <td>ANG MO KIO</td>\n",
       "      <td>5-RM</td>\n",
       "      <td>-</td>\n",
       "    </tr>\n",
       "  </tbody>\n",
       "</table>\n",
       "</div>"
      ],
      "text/plain": [
       "   quarter        town flat_type median_rent\n",
       "0  2005-Q2  ANG MO KIO      1-RM          na\n",
       "1  2005-Q2  ANG MO KIO      2-RM          na\n",
       "2  2005-Q2  ANG MO KIO      3-RM         800\n",
       "3  2005-Q2  ANG MO KIO      4-RM         950\n",
       "4  2005-Q2  ANG MO KIO      5-RM           -"
      ]
     },
     "execution_count": 25,
     "metadata": {},
     "output_type": "execute_result"
    }
   ],
   "source": [
    "data=pd.read_csv(\"./medianRent.csv\", encoding='utf-8')\n",
    "data.head()"
   ]
  },
  {
   "cell_type": "code",
   "execution_count": 16,
   "metadata": {},
   "outputs": [],
   "source": [
    "a=pd.DataFrame(data['quarter'].str.split('-',expand=True).values, columns=['year','q'])"
   ]
  },
  {
   "cell_type": "code",
   "execution_count": 17,
   "metadata": {},
   "outputs": [],
   "source": [
    "data=pd.concat([data,a],axis=1,ignore_index=False)"
   ]
  },
  {
   "cell_type": "code",
   "execution_count": 18,
   "metadata": {},
   "outputs": [],
   "source": [
    "data['median_rent']=pd.to_numeric(data['median_rent'],errors='coerce').fillna(0)\n",
    "#data['median_rent'].replace({'na':int(0)})"
   ]
  },
  {
   "cell_type": "code",
   "execution_count": 19,
   "metadata": {},
   "outputs": [],
   "source": [
    "town_unique=data['town'].unique()\n",
    "year_unique=data['year'].unique()\n",
    "flat_unique=data['flat_type'].unique()\n",
    "quarter_unique=['Q1','Q2', 'Q3', 'Q4']"
   ]
  },
  {
   "cell_type": "code",
   "execution_count": 20,
   "metadata": {},
   "outputs": [],
   "source": [
    "import panel.widgets as pnw\n",
    "import panel as pn\n",
    "#pn.extension()\n",
    "from matplotlib.figure import Figure \n",
    "\n",
    "#print (list(data['flat_type'].unique()))"
   ]
  },
  {
   "cell_type": "code",
   "execution_count": 21,
   "metadata": {},
   "outputs": [],
   "source": [
    "#variable  = pnw.RadioButtonGroup(name='Room_Type', value='EXEC', \n",
    "#                                 options=list(data['flat_type'].unique()))\n",
    "#window  = pnw.IntSlider(name='window', value=2019, start=2005, end=2019, step=1)\n",
    "#print(type([variable.value]), variable.value,[variable.value], len(variable.options), variable.options[:],variable.options[1])\n",
    "#print([window.value], type([window.value]))\n",
    "\n",
    "def find_output(variable, window):\n",
    "    year=[window]\n",
    "    r_type=variable\n",
    "    return mpl_plot(year,r_type,variable)\n",
    "    \n",
    "    \n",
    "def mpl_plot(year,r_type,variable):\n",
    "    fig2,ax2=plt.subplots(figsize=(12,8))\n",
    "    fig2.subplots_adjust(bottom=0.4)\n",
    "  \n",
    "    #Increase space for x axis labels: subplots_adjust will do it. \n",
    "    #You can play with the bottom keyword to get a good placement of the bottom of the plot\n",
    "    #fig.subplots_adjust(bottom=0.2)\n",
    "    \n",
    "    ax2.tick_params(axis=\"y\", labelsize=12)\n",
    "    barWidth=0.2\n",
    "    town_count=0\n",
    "    #print(r_type, type(r_type))\n",
    "    for i in year:\n",
    "        #for q in quarter_unique:\n",
    "            for s in [variable]:\n",
    "                #print('s',s)\n",
    "                for t in  town_unique:#['ANG MO KIO','BEDOK','BISHAN', 'BUKIT BATOK','BUKIT MERAH']:\n",
    "                    \n",
    "                    \n",
    "                    mr=data[(data['year']==str(i)) & (data['town']==str(t)) & (data['flat_type']==str(s))]\n",
    "                    #print (mr)\n",
    "\n",
    "                    #print ('start barWidth', barWidth)\n",
    "\n",
    "                    barWidth=1+barWidth\n",
    "\n",
    "                    #print ('barWidth + town_count:',barWidth)\n",
    "                    qCol=np.arange(len(quarter_unique))\n",
    "                    qCol1=[0.2*x+barWidth for x in qCol]\n",
    "\n",
    "                    #print (qCol1)\n",
    "\n",
    "                    l1=ax2.bar(qCol1[0],mr[mr['q']==quarter_unique[0]]['median_rent'],0.2,color='#ff0000',label='1st Quarter')\n",
    "                    l2=ax2.bar(qCol1[1],mr[mr['q']==quarter_unique[1]]['median_rent'],0.2,color='#A9A9A9',label='2nd Quarter')\n",
    "                    l3=ax2.bar(qCol1[2],mr[mr['q']==quarter_unique[2]]['median_rent'],0.2,color='#080000',label='3rd Quarter')\n",
    "                    l4=ax2.bar(qCol1[3],mr[mr['q']==quarter_unique[3]]['median_rent'],0.2,color='#0000FF',label='4th Quarter')\n",
    "\n",
    "\n",
    "                    ax2.set_xticks(np.arange(len(town_unique))+1.45)\n",
    "                    ax2.set_xticklabels(town_unique,{'fontsize':10},rotation=90,)\n",
    "\n",
    "\n",
    "                    #print(barWidth)\n",
    "                    #print('town_count', town_count)\n",
    "    ax2.set_ylabel('$/month',{'fontsize':12},rotation=90,)\n",
    "    fig2.legend([l1, l2, l3, l4],     # The line objects\n",
    "                           labels=quarter_unique,   # The labels for each line\n",
    "                           fontsize=8, \n",
    "                           loc=\"center right\",   # Position of legend\n",
    "                           bbox_to_anchor=(1,0.5), #A 2-tuple (x, y) places the corner of the \n",
    "                                                   #legend specified by loc at x, y.(based on proportion to fig size)\n",
    "                           borderaxespad=0,    # Small spacing around legend box\n",
    "                           title=\"Median Rental\\nBy Quarter\",  # Title for the legend\n",
    "                           title_fontsize=10\n",
    "                           )\n",
    "    fig2.suptitle('Median Rental By Year And Town For Year {} \\n  {} '.format(year,r_type), fontsize=18)\n",
    "    plt.close()\n",
    "    return fig2\n",
    "    #fig2.suptitle(t,fontsize) - add a centered title to the figure\n",
    "#find_output(variable,window)"
   ]
  },
  {
   "cell_type": "code",
   "execution_count": 22,
   "metadata": {},
   "outputs": [
    {
     "name": "stdout",
     "output_type": "stream",
     "text": [
      "<class 'list'> EXEC ['EXEC'] 6 ['1-RM', '2-RM', '3-RM', '4-RM', '5-RM', 'EXEC'] 2-RM\n",
      "[2019] <class 'list'>\n"
     ]
    }
   ],
   "source": [
    "variable  = pnw.RadioButtonGroup(name='Room_Type', value='EXEC', \n",
    "                                 options=list(data['flat_type'].unique()))\n",
    "window  = pnw.IntSlider(name='Year', value=2019, start=2005, end=2019, step=1)\n",
    "print(type([variable.value]), variable.value,[variable.value], len(variable.options), variable.options[:],variable.options[1])\n",
    "print([window.value], type([window.value]))\n",
    "\n"
   ]
  },
  {
   "cell_type": "code",
   "execution_count": 23,
   "metadata": {},
   "outputs": [
    {
     "name": "stdout",
     "output_type": "stream",
     "text": [
      "Column\n",
      "    [0] Markdown(str)\n",
      "    [1] RadioButtonGroup(name='Room_Type', options=['1-RM', '2-RM', ...], value='EXEC')\n",
      "    [2] IntSlider(end=2019, name='Year', start=2005, value=2019)\n"
     ]
    }
   ],
   "source": [
    "\n",
    "@pn.depends(variable, window)\n",
    "def response_output(variable, window):\n",
    "     return find_output(variable, window)\n",
    "\n",
    "widgets_show   = pn.Column(\"<br>\\n# <font size='3'>Flat Type</font>\", variable, window)\n",
    "print(widgets_show)"
   ]
  },
  {
   "cell_type": "code",
   "execution_count": 24,
   "metadata": {},
   "outputs": [
    {
     "name": "stderr",
     "output_type": "stream",
     "text": [
      "/Users/macbookpro/opt/anaconda3/lib/python3.7/site-packages/ipykernel_launcher.py:66: UserWarning: You have mixed positional and keyword arguments, some input may be discarded.\n"
     ]
    },
    {
     "data": {
      "text/plain": [
       "<bokeh.server.server.Server at 0x11fb3c950>"
      ]
     },
     "execution_count": 24,
     "metadata": {},
     "output_type": "execute_result"
    }
   ],
   "source": [
    "median_rent = pn.Row(response_output, widgets_show)\n",
    "\n",
    "median_rent.show()"
   ]
  },
  {
   "cell_type": "code",
   "execution_count": null,
   "metadata": {},
   "outputs": [],
   "source": []
  }
 ],
 "metadata": {
  "kernelspec": {
   "display_name": "Python 3",
   "language": "python",
   "name": "python3"
  },
  "language_info": {
   "codemirror_mode": {
    "name": "ipython",
    "version": 3
   },
   "file_extension": ".py",
   "mimetype": "text/x-python",
   "name": "python",
   "nbconvert_exporter": "python",
   "pygments_lexer": "ipython3",
   "version": "3.7.4"
  }
 },
 "nbformat": 4,
 "nbformat_minor": 2
}
